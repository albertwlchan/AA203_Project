{
 "cells": [
  {
   "cell_type": "code",
   "execution_count": 1,
   "id": "07cdc182",
   "metadata": {},
   "outputs": [],
   "source": [
    "import sympy as sp"
   ]
  },
  {
   "cell_type": "code",
   "execution_count": 2,
   "id": "7686424f",
   "metadata": {},
   "outputs": [],
   "source": [
    "g = sp.symbols('g')\n",
    "\n",
    "# Pendulum\n",
    "L = sp.symbols('L')\n",
    "mp = sp.symbols(r'm_p')\n",
    "Ip = sp.symbols(r'I_p')\n",
    "\n",
    "# Drone\n",
    "mQ = sp.symbols(r'm_Q')\n",
    "IQ = sp.symbols(r'I_Q')\n",
    "l = sp.symbols('l')\n",
    "\n",
    "T1 = sp.symbols(r'T_1')\n",
    "T2 = sp.symbols(r'T_2')\n",
    "\n",
    "Rx = sp.symbols(r'R_x')\n",
    "Ry = sp.symbols(r'R_y')\n",
    "\n",
    "# Drone angle\n",
    "θ = sp.symbols(r'\\theta')\n",
    "dθ = sp.symbols(r'\\dot{\\theta}')\n",
    "ddθ = sp.symbols(r'\\ddot{\\theta}')\n",
    "\n",
    "# Pendulum angle\n",
    "ϕ = sp.symbols(r'\\phi')\n",
    "dϕ = sp.symbols(r'\\dot{\\phi}')\n",
    "ddϕ = sp.symbols(r'\\ddot{\\phi}')\n",
    "\n",
    "# drone x\n",
    "x = sp.symbols(r'x')\n",
    "dx = sp.symbols(r'\\dot{x}')\n",
    "ddx = sp.symbols(r'\\ddot{x}')\n",
    "\n",
    "# drone y\n",
    "y = sp.symbols(r'y')\n",
    "dy = sp.symbols(r'\\dot{y}')\n",
    "ddy = sp.symbols(r'\\ddot{y}')"
   ]
  },
  {
   "cell_type": "code",
   "execution_count": 3,
   "id": "847f0816",
   "metadata": {},
   "outputs": [
    {
     "data": {
      "text/latex": [
       "$\\displaystyle L \\ddot{\\phi} \\cos{\\left(\\phi \\right)} - L \\dot{\\phi}^{2} \\sin{\\left(\\phi \\right)} + \\ddot{x}$"
      ],
      "text/plain": [
       "L*\\ddot{\\phi}*cos(\\phi) - L*\\dot{\\phi}**2*sin(\\phi) + \\ddot{x}"
      ]
     },
     "execution_count": 3,
     "metadata": {},
     "output_type": "execute_result"
    }
   ],
   "source": [
    "ddx_p = ddx - L*ddϕ*sp.sin(ϕ-sp.pi/2)-dϕ**2*L*sp.cos(ϕ-sp.pi/2)\n",
    "ddx_p"
   ]
  },
  {
   "cell_type": "code",
   "execution_count": 4,
   "id": "50cd004b",
   "metadata": {},
   "outputs": [
    {
     "data": {
      "text/latex": [
       "$\\displaystyle L \\ddot{\\phi} \\sin{\\left(\\phi \\right)} + L \\dot{\\phi}^{2} \\cos{\\left(\\phi \\right)} + \\ddot{y}$"
      ],
      "text/plain": [
       "L*\\ddot{\\phi}*sin(\\phi) + L*\\dot{\\phi}**2*cos(\\phi) + \\ddot{y}"
      ]
     },
     "execution_count": 4,
     "metadata": {},
     "output_type": "execute_result"
    }
   ],
   "source": [
    "ddy_p = ddy + L*ddϕ*sp.cos(ϕ-sp.pi/2)-dϕ**2*L*sp.sin(ϕ-sp.pi/2)\n",
    "ddy_p"
   ]
  },
  {
   "cell_type": "code",
   "execution_count": 5,
   "id": "e8760294",
   "metadata": {},
   "outputs": [
    {
     "data": {
      "text/latex": [
       "$\\displaystyle R_{x} \\cos{\\left(\\theta \\right)} - R_{y} \\sin{\\left(\\theta \\right)} - m_{p} \\left(L \\ddot{\\phi} \\cos{\\left(\\phi \\right)} - L \\dot{\\phi}^{2} \\sin{\\left(\\phi \\right)} + \\ddot{x}\\right)$"
      ],
      "text/plain": [
       "R_x*cos(\\theta) - R_y*sin(\\theta) - m_p*(L*\\ddot{\\phi}*cos(\\phi) - L*\\dot{\\phi}**2*sin(\\phi) + \\ddot{x})"
      ]
     },
     "execution_count": 5,
     "metadata": {},
     "output_type": "execute_result"
    }
   ],
   "source": [
    "eq1 = Rx*sp.cos(θ)-Ry*sp.sin(θ)-mp*ddx_p\n",
    "eq1"
   ]
  },
  {
   "cell_type": "code",
   "execution_count": 6,
   "id": "cd289be7",
   "metadata": {},
   "outputs": [
    {
     "data": {
      "text/latex": [
       "$\\displaystyle R_{x} \\sin{\\left(\\theta \\right)} + R_{y} \\cos{\\left(\\theta \\right)} - g m_{p} - m_{p} \\left(L \\ddot{\\phi} \\sin{\\left(\\phi \\right)} + L \\dot{\\phi}^{2} \\cos{\\left(\\phi \\right)} + \\ddot{y}\\right)$"
      ],
      "text/plain": [
       "R_x*sin(\\theta) + R_y*cos(\\theta) - g*m_p - m_p*(L*\\ddot{\\phi}*sin(\\phi) + L*\\dot{\\phi}**2*cos(\\phi) + \\ddot{y})"
      ]
     },
     "execution_count": 6,
     "metadata": {},
     "output_type": "execute_result"
    }
   ],
   "source": [
    "eq2 = Rx*sp.sin(θ)+Ry*sp.cos(θ)-mp*g-mp*ddy_p\n",
    "eq2"
   ]
  },
  {
   "cell_type": "code",
   "execution_count": 7,
   "id": "d1f66d3e",
   "metadata": {},
   "outputs": [
    {
     "data": {
      "text/latex": [
       "$\\displaystyle - I_{p} \\ddot{\\phi} - \\frac{L R_{x} \\cos{\\left(\\phi - \\theta \\right)}}{2} - \\frac{L R_{y} \\sin{\\left(\\phi - \\theta \\right)}}{2} - \\frac{L g m_{p} \\sin{\\left(\\phi \\right)}}{2}$"
      ],
      "text/plain": [
       "-I_p*\\ddot{\\phi} - L*R_x*cos(\\phi - \\theta)/2 - L*R_y*sin(\\phi - \\theta)/2 - L*g*m_p*sin(\\phi)/2"
      ]
     },
     "execution_count": 7,
     "metadata": {},
     "output_type": "execute_result"
    }
   ],
   "source": [
    "eq3 = Rx*sp.sin(ϕ-sp.pi/2-θ)*L/2 - Ry*sp.cos(ϕ-sp.pi/2-θ)*L/2-mp*g*(L/2)*sp.cos(ϕ-sp.pi/2)-Ip*ddϕ\n",
    "eq3"
   ]
  },
  {
   "cell_type": "code",
   "execution_count": 8,
   "id": "13c1e526",
   "metadata": {},
   "outputs": [
    {
     "data": {
      "text/latex": [
       "$\\displaystyle - R_{x} \\cos{\\left(\\theta \\right)} + R_{y} \\sin{\\left(\\theta \\right)} - T_{1} \\sin{\\left(\\theta \\right)} - T_{2} \\sin{\\left(\\theta \\right)} - \\ddot{x} m_{Q}$"
      ],
      "text/plain": [
       "-R_x*cos(\\theta) + R_y*sin(\\theta) - T_1*sin(\\theta) - T_2*sin(\\theta) - \\ddot{x}*m_Q"
      ]
     },
     "execution_count": 8,
     "metadata": {},
     "output_type": "execute_result"
    }
   ],
   "source": [
    "eq4 = -Rx*sp.cos(θ)+Ry*sp.sin(θ)-T1*sp.sin(θ)-T2*sp.sin(θ)-mQ*ddx\n",
    "eq4"
   ]
  },
  {
   "cell_type": "code",
   "execution_count": 9,
   "id": "1fa6417d",
   "metadata": {},
   "outputs": [
    {
     "data": {
      "text/latex": [
       "$\\displaystyle - R_{x} \\sin{\\left(\\theta \\right)} - R_{y} \\cos{\\left(\\theta \\right)} + T_{1} \\cos{\\left(\\theta \\right)} + T_{2} \\cos{\\left(\\theta \\right)} - \\ddot{y} m_{Q} - g m_{Q}$"
      ],
      "text/plain": [
       "-R_x*sin(\\theta) - R_y*cos(\\theta) + T_1*cos(\\theta) + T_2*cos(\\theta) - \\ddot{y}*m_Q - g*m_Q"
      ]
     },
     "execution_count": 9,
     "metadata": {},
     "output_type": "execute_result"
    }
   ],
   "source": [
    "eq5 = -Rx*sp.sin(θ)-Ry*sp.cos(θ)+T1*sp.cos(θ)+T2*sp.cos(θ)-mQ*g-mQ*ddy\n",
    "eq5"
   ]
  },
  {
   "cell_type": "code",
   "execution_count": 10,
   "id": "f16232de",
   "metadata": {},
   "outputs": [
    {
     "data": {
      "text/latex": [
       "$\\displaystyle - I_{Q} \\ddot{\\theta} - T_{1} l + T_{2} l$"
      ],
      "text/plain": [
       "-I_Q*\\ddot{\\theta} - T_1*l + T_2*l"
      ]
     },
     "execution_count": 10,
     "metadata": {},
     "output_type": "execute_result"
    }
   ],
   "source": [
    "eq6 = T2*l-T1*l-IQ*ddθ\n",
    "eq6"
   ]
  },
  {
   "cell_type": "code",
   "execution_count": 11,
   "id": "33de3871",
   "metadata": {},
   "outputs": [],
   "source": [
    "sols = sp.solve([eq1,eq2,eq3,eq4,eq5,eq6], (Rx, Ry, ddx, ddy, ddθ, ddϕ), simplify=True)"
   ]
  },
  {
   "cell_type": "code",
   "execution_count": 12,
   "id": "692310c0",
   "metadata": {},
   "outputs": [
    {
     "data": {
      "text/latex": [
       "$\\displaystyle - \\frac{L m_{Q} m_{p} \\left(2 I_{p} \\dot{\\phi}^{2} m_{Q} \\sin{\\left(\\phi - \\theta \\right)} + 2 I_{p} \\dot{\\phi}^{2} m_{p} \\sin{\\left(\\phi - \\theta \\right)} + L^{2} \\dot{\\phi}^{2} m_{Q} m_{p} \\sin{\\left(\\phi - \\theta \\right)} + \\frac{L T_{1} m_{p} \\sin{\\left(2 \\phi - 2 \\theta \\right)}}{2} + \\frac{L T_{2} m_{p} \\sin{\\left(2 \\phi - 2 \\theta \\right)}}{2} + \\frac{L g m_{Q} m_{p} \\sin{\\left(\\theta \\right)}}{2} + \\frac{L g m_{Q} m_{p} \\sin{\\left(2 \\phi - \\theta \\right)}}{2} + \\frac{L g m_{p}^{2} \\sin{\\left(\\theta \\right)}}{2} + \\frac{L g m_{p}^{2} \\sin{\\left(2 \\phi - \\theta \\right)}}{2}\\right)}{2 I_{p} m_{Q}^{2} + 4 I_{p} m_{Q} m_{p} + 2 I_{p} m_{p}^{2} + L^{2} m_{Q}^{2} m_{p} + L^{2} m_{Q} m_{p}^{2}}$"
      ],
      "text/plain": [
       "-L*m_Q*m_p*(2*I_p*\\dot{\\phi}**2*m_Q*sin(\\phi - \\theta) + 2*I_p*\\dot{\\phi}**2*m_p*sin(\\phi - \\theta) + L**2*\\dot{\\phi}**2*m_Q*m_p*sin(\\phi - \\theta) + L*T_1*m_p*sin(2*\\phi - 2*\\theta)/2 + L*T_2*m_p*sin(2*\\phi - 2*\\theta)/2 + L*g*m_Q*m_p*sin(\\theta)/2 + L*g*m_Q*m_p*sin(2*\\phi - \\theta)/2 + L*g*m_p**2*sin(\\theta)/2 + L*g*m_p**2*sin(2*\\phi - \\theta)/2)/(2*I_p*m_Q**2 + 4*I_p*m_Q*m_p + 2*I_p*m_p**2 + L**2*m_Q**2*m_p + L**2*m_Q*m_p**2)"
      ]
     },
     "execution_count": 12,
     "metadata": {},
     "output_type": "execute_result"
    }
   ],
   "source": [
    "sols[Rx]"
   ]
  },
  {
   "cell_type": "code",
   "execution_count": 13,
   "id": "24789222",
   "metadata": {},
   "outputs": [
    {
     "data": {
      "text/latex": [
       "$\\displaystyle \\frac{m_{p} \\left(2 I_{p} L \\dot{\\phi}^{2} m_{Q}^{2} \\cos{\\left(\\phi - \\theta \\right)} + 2 I_{p} L \\dot{\\phi}^{2} m_{Q} m_{p} \\cos{\\left(\\phi - \\theta \\right)} + 2 I_{p} T_{1} m_{Q} + 2 I_{p} T_{1} m_{p} + 2 I_{p} T_{2} m_{Q} + 2 I_{p} T_{2} m_{p} + L^{3} \\dot{\\phi}^{2} m_{Q}^{2} m_{p} \\cos{\\left(\\phi - \\theta \\right)} + 2 L^{2} T_{1} m_{Q} m_{p} \\sin{\\left(\\phi \\right)} \\sin{\\left(\\theta \\right)} \\cos{\\left(\\phi - \\theta \\right)} + L^{2} T_{1} m_{Q} m_{p} \\cos^{2}{\\left(\\phi \\right)} + L^{2} T_{1} m_{Q} m_{p} \\cos^{2}{\\left(\\theta \\right)} - L^{2} T_{1} m_{Q} m_{p} + 2 L^{2} T_{2} m_{Q} m_{p} \\sin{\\left(\\phi \\right)} \\sin{\\left(\\theta \\right)} \\cos{\\left(\\phi - \\theta \\right)} + L^{2} T_{2} m_{Q} m_{p} \\cos^{2}{\\left(\\phi \\right)} + L^{2} T_{2} m_{Q} m_{p} \\cos^{2}{\\left(\\theta \\right)} - L^{2} T_{2} m_{Q} m_{p} - L^{2} g m_{Q}^{2} m_{p} \\sin{\\left(\\phi \\right)} \\sin{\\left(\\phi - \\theta \\right)} - L^{2} g m_{Q} m_{p}^{2} \\sin{\\left(\\phi \\right)} \\sin{\\left(\\phi - \\theta \\right)}\\right)}{2 I_{p} m_{Q}^{2} + 4 I_{p} m_{Q} m_{p} + 2 I_{p} m_{p}^{2} + L^{2} m_{Q}^{2} m_{p} + L^{2} m_{Q} m_{p}^{2}}$"
      ],
      "text/plain": [
       "m_p*(2*I_p*L*\\dot{\\phi}**2*m_Q**2*cos(\\phi - \\theta) + 2*I_p*L*\\dot{\\phi}**2*m_Q*m_p*cos(\\phi - \\theta) + 2*I_p*T_1*m_Q + 2*I_p*T_1*m_p + 2*I_p*T_2*m_Q + 2*I_p*T_2*m_p + L**3*\\dot{\\phi}**2*m_Q**2*m_p*cos(\\phi - \\theta) + 2*L**2*T_1*m_Q*m_p*sin(\\phi)*sin(\\theta)*cos(\\phi - \\theta) + L**2*T_1*m_Q*m_p*cos(\\phi)**2 + L**2*T_1*m_Q*m_p*cos(\\theta)**2 - L**2*T_1*m_Q*m_p + 2*L**2*T_2*m_Q*m_p*sin(\\phi)*sin(\\theta)*cos(\\phi - \\theta) + L**2*T_2*m_Q*m_p*cos(\\phi)**2 + L**2*T_2*m_Q*m_p*cos(\\theta)**2 - L**2*T_2*m_Q*m_p - L**2*g*m_Q**2*m_p*sin(\\phi)*sin(\\phi - \\theta) - L**2*g*m_Q*m_p**2*sin(\\phi)*sin(\\phi - \\theta))/(2*I_p*m_Q**2 + 4*I_p*m_Q*m_p + 2*I_p*m_p**2 + L**2*m_Q**2*m_p + L**2*m_Q*m_p**2)"
      ]
     },
     "execution_count": 13,
     "metadata": {},
     "output_type": "execute_result"
    }
   ],
   "source": [
    "sols[Ry]"
   ]
  },
  {
   "cell_type": "code",
   "execution_count": 14,
   "id": "b4b359bc",
   "metadata": {},
   "outputs": [
    {
     "data": {
      "text/latex": [
       "$\\displaystyle \\frac{4 I_{p} L \\dot{\\phi}^{2} m_{Q} m_{p} \\sin{\\left(\\phi \\right)} + 4 I_{p} L \\dot{\\phi}^{2} m_{p}^{2} \\sin{\\left(\\phi \\right)} - 4 I_{p} T_{1} m_{Q} \\sin{\\left(\\theta \\right)} - 4 I_{p} T_{1} m_{p} \\sin{\\left(\\theta \\right)} - 4 I_{p} T_{2} m_{Q} \\sin{\\left(\\theta \\right)} - 4 I_{p} T_{2} m_{p} \\sin{\\left(\\theta \\right)} + 2 L^{3} \\dot{\\phi}^{2} m_{Q} m_{p}^{2} \\sin{\\left(\\phi \\right)} - 2 L^{2} T_{1} m_{Q} m_{p} \\sin{\\left(\\theta \\right)} - L^{2} T_{1} m_{p}^{2} \\sin{\\left(\\theta \\right)} + L^{2} T_{1} m_{p}^{2} \\sin{\\left(2 \\phi - \\theta \\right)} - 2 L^{2} T_{2} m_{Q} m_{p} \\sin{\\left(\\theta \\right)} - L^{2} T_{2} m_{p}^{2} \\sin{\\left(\\theta \\right)} + L^{2} T_{2} m_{p}^{2} \\sin{\\left(2 \\phi - \\theta \\right)} + L^{2} g m_{Q} m_{p}^{2} \\sin{\\left(2 \\phi \\right)} + L^{2} g m_{p}^{3} \\sin{\\left(2 \\phi \\right)}}{4 I_{p} m_{Q}^{2} + 8 I_{p} m_{Q} m_{p} + 4 I_{p} m_{p}^{2} + 2 L^{2} m_{Q}^{2} m_{p} + 2 L^{2} m_{Q} m_{p}^{2}}$"
      ],
      "text/plain": [
       "(4*I_p*L*\\dot{\\phi}**2*m_Q*m_p*sin(\\phi) + 4*I_p*L*\\dot{\\phi}**2*m_p**2*sin(\\phi) - 4*I_p*T_1*m_Q*sin(\\theta) - 4*I_p*T_1*m_p*sin(\\theta) - 4*I_p*T_2*m_Q*sin(\\theta) - 4*I_p*T_2*m_p*sin(\\theta) + 2*L**3*\\dot{\\phi}**2*m_Q*m_p**2*sin(\\phi) - 2*L**2*T_1*m_Q*m_p*sin(\\theta) - L**2*T_1*m_p**2*sin(\\theta) + L**2*T_1*m_p**2*sin(2*\\phi - \\theta) - 2*L**2*T_2*m_Q*m_p*sin(\\theta) - L**2*T_2*m_p**2*sin(\\theta) + L**2*T_2*m_p**2*sin(2*\\phi - \\theta) + L**2*g*m_Q*m_p**2*sin(2*\\phi) + L**2*g*m_p**3*sin(2*\\phi))/(4*I_p*m_Q**2 + 8*I_p*m_Q*m_p + 4*I_p*m_p**2 + 2*L**2*m_Q**2*m_p + 2*L**2*m_Q*m_p**2)"
      ]
     },
     "execution_count": 14,
     "metadata": {},
     "output_type": "execute_result"
    }
   ],
   "source": [
    "sols[ddx]"
   ]
  },
  {
   "cell_type": "code",
   "execution_count": 15,
   "id": "6a44b077",
   "metadata": {},
   "outputs": [
    {
     "data": {
      "text/latex": [
       "$\\displaystyle \\frac{- 2 I_{p} L \\dot{\\phi}^{2} m_{Q} m_{p} \\cos{\\left(\\phi \\right)} - 2 I_{p} L \\dot{\\phi}^{2} m_{p}^{2} \\cos{\\left(\\phi \\right)} + 2 I_{p} T_{1} m_{Q} \\cos{\\left(\\theta \\right)} + 2 I_{p} T_{1} m_{p} \\cos{\\left(\\theta \\right)} + 2 I_{p} T_{2} m_{Q} \\cos{\\left(\\theta \\right)} + 2 I_{p} T_{2} m_{p} \\cos{\\left(\\theta \\right)} - 2 I_{p} g m_{Q}^{2} - 4 I_{p} g m_{Q} m_{p} - 2 I_{p} g m_{p}^{2} - L^{3} \\dot{\\phi}^{2} m_{Q} m_{p}^{2} \\cos{\\left(\\phi \\right)} + L^{2} T_{1} m_{Q} m_{p} \\cos{\\left(\\theta \\right)} + L^{2} T_{1} m_{p}^{2} \\sin{\\left(\\phi \\right)} \\sin{\\left(\\phi - \\theta \\right)} + L^{2} T_{2} m_{Q} m_{p} \\cos{\\left(\\theta \\right)} + L^{2} T_{2} m_{p}^{2} \\sin{\\left(\\phi \\right)} \\sin{\\left(\\phi - \\theta \\right)} - L^{2} g m_{Q}^{2} m_{p} - L^{2} g m_{Q} m_{p}^{2} \\cos^{2}{\\left(\\phi \\right)} - L^{2} g m_{p}^{3} \\cos^{2}{\\left(\\phi \\right)} + L^{2} g m_{p}^{3}}{2 I_{p} m_{Q}^{2} + 4 I_{p} m_{Q} m_{p} + 2 I_{p} m_{p}^{2} + L^{2} m_{Q}^{2} m_{p} + L^{2} m_{Q} m_{p}^{2}}$"
      ],
      "text/plain": [
       "(-2*I_p*L*\\dot{\\phi}**2*m_Q*m_p*cos(\\phi) - 2*I_p*L*\\dot{\\phi}**2*m_p**2*cos(\\phi) + 2*I_p*T_1*m_Q*cos(\\theta) + 2*I_p*T_1*m_p*cos(\\theta) + 2*I_p*T_2*m_Q*cos(\\theta) + 2*I_p*T_2*m_p*cos(\\theta) - 2*I_p*g*m_Q**2 - 4*I_p*g*m_Q*m_p - 2*I_p*g*m_p**2 - L**3*\\dot{\\phi}**2*m_Q*m_p**2*cos(\\phi) + L**2*T_1*m_Q*m_p*cos(\\theta) + L**2*T_1*m_p**2*sin(\\phi)*sin(\\phi - \\theta) + L**2*T_2*m_Q*m_p*cos(\\theta) + L**2*T_2*m_p**2*sin(\\phi)*sin(\\phi - \\theta) - L**2*g*m_Q**2*m_p - L**2*g*m_Q*m_p**2*cos(\\phi)**2 - L**2*g*m_p**3*cos(\\phi)**2 + L**2*g*m_p**3)/(2*I_p*m_Q**2 + 4*I_p*m_Q*m_p + 2*I_p*m_p**2 + L**2*m_Q**2*m_p + L**2*m_Q*m_p**2)"
      ]
     },
     "execution_count": 15,
     "metadata": {},
     "output_type": "execute_result"
    }
   ],
   "source": [
    "sols[ddy]"
   ]
  },
  {
   "cell_type": "code",
   "execution_count": 16,
   "id": "6683cff4",
   "metadata": {},
   "outputs": [
    {
     "data": {
      "text/latex": [
       "$\\displaystyle \\frac{l \\left(- T_{1} + T_{2}\\right)}{I_{Q}}$"
      ],
      "text/plain": [
       "l*(-T_1 + T_2)/I_Q"
      ]
     },
     "execution_count": 16,
     "metadata": {},
     "output_type": "execute_result"
    }
   ],
   "source": [
    "sols[ddθ]"
   ]
  },
  {
   "cell_type": "code",
   "execution_count": 17,
   "id": "b1d7aea0",
   "metadata": {},
   "outputs": [
    {
     "data": {
      "text/latex": [
       "$\\displaystyle - \\frac{L m_{p} \\left(T_{1} \\sin{\\left(\\phi - \\theta \\right)} + T_{2} \\sin{\\left(\\phi - \\theta \\right)} + g m_{Q} \\sin{\\left(\\phi \\right)} + g m_{p} \\sin{\\left(\\phi \\right)}\\right)}{2 I_{p} m_{Q} + 2 I_{p} m_{p} + L^{2} m_{Q} m_{p}}$"
      ],
      "text/plain": [
       "-L*m_p*(T_1*sin(\\phi - \\theta) + T_2*sin(\\phi - \\theta) + g*m_Q*sin(\\phi) + g*m_p*sin(\\phi))/(2*I_p*m_Q + 2*I_p*m_p + L**2*m_Q*m_p)"
      ]
     },
     "execution_count": 17,
     "metadata": {},
     "output_type": "execute_result"
    }
   ],
   "source": [
    "sols[ddϕ]"
   ]
  },
  {
   "cell_type": "code",
   "execution_count": 18,
   "id": "afe59b0f",
   "metadata": {},
   "outputs": [
    {
     "data": {
      "text/latex": [
       "$\\displaystyle - \\frac{L m_{p} \\left(T_{1} \\cos{\\left(\\phi - \\theta \\right)} + T_{2} \\cos{\\left(\\phi - \\theta \\right)} + g m_{Q} \\cos{\\left(\\phi \\right)} + g m_{p} \\cos{\\left(\\phi \\right)}\\right)}{2 I_{p} m_{Q} + 2 I_{p} m_{p} + L^{2} m_{Q} m_{p}}$"
      ],
      "text/plain": [
       "-L*m_p*(T_1*cos(\\phi - \\theta) + T_2*cos(\\phi - \\theta) + g*m_Q*cos(\\phi) + g*m_p*cos(\\phi))/(2*I_p*m_Q + 2*I_p*m_p + L**2*m_Q*m_p)"
      ]
     },
     "execution_count": 18,
     "metadata": {},
     "output_type": "execute_result"
    }
   ],
   "source": [
    "sols[ddϕ].diff(ϕ)"
   ]
  },
  {
   "cell_type": "code",
   "execution_count": 19,
   "id": "11f9c42a",
   "metadata": {},
   "outputs": [],
   "source": [
    "dfds = []\n",
    "for s in [x, y, θ, ϕ, dx, dy, dθ, dϕ]:\n",
    "    dfds.append([])\n",
    "    for ds in [dx, dy, dθ, dϕ, sols[ddx], sols[ddy], sols[ddθ], sols[ddϕ]]:\n",
    "        dfds[-1].append(ds.diff(s))\n",
    "\n",
    "dfdu = []\n",
    "for u in [T1, T2]:\n",
    "    dfdu.append([])\n",
    "    for ds in [dx, dy, dθ, dϕ, sols[ddx], sols[ddy], sols[ddθ], sols[ddϕ]]:\n",
    "        dfdu[-1].append(ds.diff(u))"
   ]
  },
  {
   "cell_type": "code",
   "execution_count": 25,
   "id": "7258ebef",
   "metadata": {},
   "outputs": [],
   "source": [
    "dfds_func = sp.lambdify((Ip, mp, L, ϕ, dϕ, IQ, mQ, l, θ, dθ, T1, T2, g), dfds)\n",
    "dfdu_func = sp.lambdify((Ip, mp, L, ϕ, dϕ, IQ, mQ, l, θ, dθ, T1, T2, g), dfdu)"
   ]
  },
  {
   "cell_type": "code",
   "execution_count": 24,
   "id": "17172e54",
   "metadata": {},
   "outputs": [
    {
     "data": {
      "text/plain": [
       "array([[ 0.,  0.,  0.,  0.,  0.,  0.,  0.,  0.],\n",
       "       [ 0.,  0.,  0.,  0.,  0.,  0.,  0.,  0.],\n",
       "       [ 0.,  0.,  0.,  0.,  0.,  0.,  0., -0.],\n",
       "       [ 0.,  0.,  0.,  0.,  0.,  0.,  0., -0.],\n",
       "       [ 1.,  0.,  0.,  0.,  0.,  0.,  0.,  0.],\n",
       "       [ 0.,  1.,  0.,  0.,  0.,  0.,  0.,  0.],\n",
       "       [ 0.,  0.,  1.,  0.,  0.,  0.,  0.,  0.],\n",
       "       [ 0.,  0.,  0.,  1.,  0.,  0.,  0.,  0.]])"
      ]
     },
     "execution_count": 24,
     "metadata": {},
     "output_type": "execute_result"
    }
   ],
   "source": [
    "import numpy as np\n",
    "np.array(dfds_func(1,1,1,0,0,1,1,0,0,0,0,0,0))"
   ]
  },
  {
   "cell_type": "code",
   "execution_count": 26,
   "id": "de2ce139",
   "metadata": {},
   "outputs": [
    {
     "data": {
      "text/plain": [
       "array([[ 0. ,  0. ,  0. ,  0. , -0. ,  0.5,  0. ,  0. ],\n",
       "       [ 0. ,  0. ,  0. ,  0. , -0. ,  0.5,  0. ,  0. ]])"
      ]
     },
     "execution_count": 26,
     "metadata": {},
     "output_type": "execute_result"
    }
   ],
   "source": [
    "np.array(dfdu_func(1,1,1,0,0,1,1,0,0,0,0,0,0))"
   ]
  },
  {
   "cell_type": "code",
   "execution_count": null,
   "id": "eb67abb5",
   "metadata": {},
   "outputs": [],
   "source": []
  }
 ],
 "metadata": {
  "kernelspec": {
   "display_name": "Python 3 (ipykernel)",
   "language": "python",
   "name": "python3"
  },
  "language_info": {
   "codemirror_mode": {
    "name": "ipython",
    "version": 3
   },
   "file_extension": ".py",
   "mimetype": "text/x-python",
   "name": "python",
   "nbconvert_exporter": "python",
   "pygments_lexer": "ipython3",
   "version": "3.9.7"
  }
 },
 "nbformat": 4,
 "nbformat_minor": 5
}
